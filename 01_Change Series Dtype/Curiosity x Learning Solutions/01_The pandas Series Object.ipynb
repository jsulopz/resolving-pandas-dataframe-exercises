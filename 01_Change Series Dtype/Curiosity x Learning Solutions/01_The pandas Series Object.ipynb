{
 "cells": [
  {
   "cell_type": "markdown",
   "id": "775fb9b8-0ceb-411d-a734-90eb55d71ae6",
   "metadata": {},
   "source": [
    "![](../../../src/logo.svg)\n",
    "\n",
    "**© Jesús López**\n",
    "\n",
    "Follow him on **[LinkedIn](https://linkedin.com/in/jsulopz)** or **[Twitter](https://twitter.com/jsulopz)**\n",
    "\n",
    "<br>\n",
    "<a rel=\"license\" href=\"http://creativecommons.org/licenses/by-nc-nd/4.0/\"><img alt=\"Creative Commons License\" style=\"border-width:0\" src=\"https://i.creativecommons.org/l/by-nc-nd/4.0/88x31.png\" /></a><br />This work is licensed under a <a rel=\"license\" href=\"http://creativecommons.org/licenses/by-nc-nd/4.0/\">Creative Commons Attribution-NonCommercial-NoDerivatives 4.0 International License</a>."
   ]
  },
  {
   "cell_type": "markdown",
   "id": "b85dd7e2",
   "metadata": {},
   "source": [
    "# #01 | The pandas Series object"
   ]
  },
  {
   "cell_type": "code",
   "execution_count": 5,
   "id": "3a271703",
   "metadata": {},
   "outputs": [
    {
     "data": {
      "text/html": [
       "<div>\n",
       "<style scoped>\n",
       "    .dataframe tbody tr th:only-of-type {\n",
       "        vertical-align: middle;\n",
       "    }\n",
       "\n",
       "    .dataframe tbody tr th {\n",
       "        vertical-align: top;\n",
       "    }\n",
       "\n",
       "    .dataframe thead th {\n",
       "        text-align: right;\n",
       "    }\n",
       "</style>\n",
       "<table border=\"1\" class=\"dataframe\">\n",
       "  <thead>\n",
       "    <tr style=\"text-align: right;\">\n",
       "      <th></th>\n",
       "      <th>Matches</th>\n",
       "      <th>Goals</th>\n",
       "      <th>Assists</th>\n",
       "      <th>Yellows</th>\n",
       "      <th>Reds</th>\n",
       "      <th>Yellows2</th>\n",
       "      <th>Minutes</th>\n",
       "      <th>Birthday</th>\n",
       "    </tr>\n",
       "  </thead>\n",
       "  <tbody>\n",
       "    <tr>\n",
       "      <th>CR7</th>\n",
       "      <td>923</td>\n",
       "      <td>689</td>\n",
       "      <td>231</td>\n",
       "      <td>112</td>\n",
       "      <td>7</td>\n",
       "      <td>4</td>\n",
       "      <td>75372</td>\n",
       "      <td>1985-02-05</td>\n",
       "    </tr>\n",
       "    <tr>\n",
       "      <th>Messi</th>\n",
       "      <td>800</td>\n",
       "      <td>679</td>\n",
       "      <td>312</td>\n",
       "      <td>82</td>\n",
       "      <td>1</td>\n",
       "      <td>0</td>\n",
       "      <td>65299</td>\n",
       "      <td>1987-06-24</td>\n",
       "    </tr>\n",
       "    <tr>\n",
       "      <th>Lewandowski</th>\n",
       "      <td>662</td>\n",
       "      <td>498</td>\n",
       "      <td>131</td>\n",
       "      <td>68</td>\n",
       "      <td>0</td>\n",
       "      <td>1</td>\n",
       "      <td>65299</td>\n",
       "      <td>1988-08-21</td>\n",
       "    </tr>\n",
       "    <tr>\n",
       "      <th>Benzema</th>\n",
       "      <td>737</td>\n",
       "      <td>370</td>\n",
       "      <td>182</td>\n",
       "      <td>15</td>\n",
       "      <td>0</td>\n",
       "      <td>0</td>\n",
       "      <td>52245</td>\n",
       "      <td>1987-12-19</td>\n",
       "    </tr>\n",
       "  </tbody>\n",
       "</table>\n",
       "</div>"
      ],
      "text/plain": [
       "             Matches  Goals  Assists  ...  Yellows2  Minutes    Birthday\n",
       "CR7              923    689      231  ...         4    75372  1985-02-05\n",
       "Messi            800    679      312  ...         0    65299  1987-06-24\n",
       "Lewandowski      662    498      131  ...         1    65299  1988-08-21\n",
       "Benzema          737    370      182  ...         0    52245  1987-12-19\n",
       "\n",
       "[4 rows x 8 columns]"
      ]
     },
     "execution_count": 5,
     "metadata": {},
     "output_type": "execute_result"
    }
   ],
   "source": [
    "import seaborn as sns #! starting object\n",
    "import pandas as pd\n",
    "\n",
    "pd.set_option('display.min_rows', 4)\n",
    "pd.set_option('display.max_rows', 10)\n",
    "\n",
    "df_football = pd.read_json('football_players_stats.json', orient='index')\n",
    "df_football"
   ]
  },
  {
   "cell_type": "markdown",
   "id": "60400ae7-f540-4efb-9fcb-5ddda8eacabc",
   "metadata": {},
   "source": [
    "The `DataFrame` is composed by a set of `Series`; naming for the column."
   ]
  },
  {
   "cell_type": "code",
   "execution_count": 6,
   "id": "27130247-91d6-4a66-a671-92666bfc904f",
   "metadata": {},
   "outputs": [
    {
     "data": {
      "text/plain": [
       "CR7            1985-02-05\n",
       "Messi          1987-06-24\n",
       "Lewandowski    1988-08-21\n",
       "Benzema        1987-12-19\n",
       "Name: Birthday, dtype: object"
      ]
     },
     "execution_count": 6,
     "metadata": {},
     "output_type": "execute_result"
    }
   ],
   "source": [
    "df_football.Birthday"
   ]
  },
  {
   "cell_type": "code",
   "execution_count": 7,
   "id": "b5dac37f-07a7-43aa-b658-332b706d62c2",
   "metadata": {},
   "outputs": [
    {
     "data": {
      "text/plain": [
       "pandas.core.series.Series"
      ]
     },
     "execution_count": 7,
     "metadata": {},
     "output_type": "execute_result"
    }
   ],
   "source": [
    "type(df_football.Birthday)"
   ]
  },
  {
   "cell_type": "markdown",
   "id": "a22fdd6a-32ad-4c53-8c78-0079074bda8a",
   "metadata": {},
   "source": [
    "## The Series"
   ]
  },
  {
   "cell_type": "markdown",
   "id": "1dd61a33-86be-41e9-8952-c506aa8ca1ec",
   "metadata": {},
   "source": [
    "![](Series.jpg)"
   ]
  },
  {
   "cell_type": "code",
   "execution_count": 8,
   "id": "74bc5f90-96ef-4097-8105-32cdab53fa31",
   "metadata": {},
   "outputs": [
    {
     "data": {
      "text/plain": [
       "Index(['CR7', 'Messi', 'Lewandowski', 'Benzema'], dtype='object')"
      ]
     },
     "execution_count": 8,
     "metadata": {},
     "output_type": "execute_result"
    }
   ],
   "source": [
    "df_football.Birthday.index"
   ]
  },
  {
   "cell_type": "code",
   "execution_count": 9,
   "id": "3b49117a-2776-4b16-abce-db470b685e15",
   "metadata": {},
   "outputs": [
    {
     "data": {
      "text/plain": [
       "'Birthday'"
      ]
     },
     "execution_count": 9,
     "metadata": {},
     "output_type": "execute_result"
    }
   ],
   "source": [
    "df_football.Birthday.name"
   ]
  },
  {
   "cell_type": "code",
   "execution_count": 10,
   "id": "bf6db83f-9624-4e94-8a09-e36f5fe8ed96",
   "metadata": {},
   "outputs": [
    {
     "data": {
      "text/plain": [
       "dtype('O')"
      ]
     },
     "execution_count": 10,
     "metadata": {},
     "output_type": "execute_result"
    }
   ],
   "source": [
    "df_football.Birthday.dtype"
   ]
  },
  {
   "cell_type": "code",
   "execution_count": 11,
   "id": "411e2d44-0962-4d19-bb5c-ebfc6f9562e4",
   "metadata": {},
   "outputs": [
    {
     "data": {
      "text/plain": [
       "array(['1985-02-05', '1987-06-24', '1988-08-21', '1987-12-19'],\n",
       "      dtype=object)"
      ]
     },
     "execution_count": 11,
     "metadata": {},
     "output_type": "execute_result"
    }
   ],
   "source": [
    "df_football.Birthday.values"
   ]
  },
  {
   "cell_type": "markdown",
   "id": "fa3da514-4297-4fce-a533-78ea52a160b8",
   "metadata": {},
   "source": [
    "## The DataFrame"
   ]
  },
  {
   "cell_type": "markdown",
   "id": "a495cee7-c095-40bf-ad9c-fe4a0b61814f",
   "metadata": {},
   "source": [
    "![](DataFrame.jpg)"
   ]
  },
  {
   "cell_type": "code",
   "execution_count": 12,
   "id": "a7f54aee-e3f6-4580-a4dc-e2a357d61901",
   "metadata": {},
   "outputs": [
    {
     "data": {
      "text/plain": [
       "Index(['CR7', 'Messi', 'Lewandowski', 'Benzema'], dtype='object')"
      ]
     },
     "execution_count": 12,
     "metadata": {},
     "output_type": "execute_result"
    }
   ],
   "source": [
    "df_football.index"
   ]
  },
  {
   "cell_type": "code",
   "execution_count": 13,
   "id": "6ef14458-9ec7-4f80-9c68-6799bd1cfb2a",
   "metadata": {},
   "outputs": [
    {
     "data": {
      "text/plain": [
       "array([[923, 689, 231, 112, 7, 4, 75372, '1985-02-05'],\n",
       "       [800, 679, 312, 82, 1, 0, 65299, '1987-06-24'],\n",
       "       [662, 498, 131, 68, 0, 1, 65299, '1988-08-21'],\n",
       "       [737, 370, 182, 15, 0, 0, 52245, '1987-12-19']], dtype=object)"
      ]
     },
     "execution_count": 13,
     "metadata": {},
     "output_type": "execute_result"
    }
   ],
   "source": [
    "df_football.values"
   ]
  },
  {
   "cell_type": "code",
   "execution_count": 14,
   "id": "a3aa8307-2bf7-4ebf-98b9-37cd6dd17c52",
   "metadata": {},
   "outputs": [
    {
     "data": {
      "text/plain": [
       "Index(['Matches', 'Goals', 'Assists', 'Yellows', 'Reds', 'Yellows2', 'Minutes',\n",
       "       'Birthday'],\n",
       "      dtype='object')"
      ]
     },
     "execution_count": 14,
     "metadata": {},
     "output_type": "execute_result"
    }
   ],
   "source": [
    "df_football.columns"
   ]
  }
 ],
 "metadata": {
  "authors": [
   {
    "blog": "https//blog.resolvingpython.com",
    "name": "Jesús López",
    "twitter": "https://twitter.com/jsulopz"
   }
  ],
  "kernelspec": {
   "display_name": "Python 3 (ipykernel)",
   "language": "python",
   "name": "python3"
  },
  "language_info": {
   "codemirror_mode": {
    "name": "ipython",
    "version": 3
   },
   "file_extension": ".py",
   "mimetype": "text/x-python",
   "name": "python",
   "nbconvert_exporter": "python",
   "pygments_lexer": "ipython3",
   "version": "3.9.7"
  }
 },
 "nbformat": 4,
 "nbformat_minor": 5
}
