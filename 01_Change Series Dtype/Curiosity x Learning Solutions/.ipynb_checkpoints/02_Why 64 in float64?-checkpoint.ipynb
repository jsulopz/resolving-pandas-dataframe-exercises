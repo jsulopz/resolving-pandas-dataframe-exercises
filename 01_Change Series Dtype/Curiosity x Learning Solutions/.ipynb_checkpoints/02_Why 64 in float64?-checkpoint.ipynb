{
 "cells": [
  {
   "cell_type": "markdown",
   "id": "92d0f465",
   "metadata": {},
   "source": [
    "# #02 | Why 64 in float64?"
   ]
  },
  {
   "cell_type": "code",
   "execution_count": null,
   "id": "cad85982",
   "metadata": {},
   "outputs": [],
   "source": [
    "import seaborn as sns #! starting object\n",
    "import pandas as pd\n",
    "\n",
    "pd.set_option('display.min_rows', 4)\n",
    "pd.set_option('display.max_rows', 10)\n",
    "\n",
    "df_tips = sns.load_dataset('tips')\n",
    "df_tips.total_bill = df_tips.total_bill.astype(str)\n",
    "df_tips"
   ]
  },
  {
   "cell_type": "code",
   "execution_count": null,
   "id": "0b5fc431",
   "metadata": {},
   "outputs": [],
   "source": []
  }
 ],
 "metadata": {
  "authors": [
   {
    "blog": "https//blog.resolvingpython.com",
    "name": "Jesús López",
    "twitter": "https://twitter.com/jsulopz"
   }
  ],
  "kernelspec": {
   "display_name": "Python 3 (ipykernel)",
   "language": "python",
   "name": "python3"
  },
  "language_info": {
   "codemirror_mode": {
    "name": "ipython",
    "version": 3
   },
   "file_extension": ".py",
   "mimetype": "text/x-python",
   "name": "python",
   "nbconvert_exporter": "python",
   "pygments_lexer": "ipython3",
   "version": "3.9.7"
  }
 },
 "nbformat": 4,
 "nbformat_minor": 5
}
