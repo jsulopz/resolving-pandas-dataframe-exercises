{
 "cells": [
  {
   "cell_type": "markdown",
   "id": "52c71a28-5f42-49f1-9cbf-dff9e3418b90",
   "metadata": {},
   "source": [
    "![](../../../src/logo.svg)\n",
    "\n",
    "**© Jesús López**\n",
    "\n",
    "Follow him on **[LinkedIn](https://linkedin.com/in/jsulopz)** or **[Twitter](https://twitter.com/jsulopz)**\n",
    "\n",
    "<br>\n",
    "<a rel=\"license\" href=\"http://creativecommons.org/licenses/by-nc-nd/4.0/\"><img alt=\"Creative Commons License\" style=\"border-width:0\" src=\"https://i.creativecommons.org/l/by-nc-nd/4.0/88x31.png\" /></a><br />This work is licensed under a <a rel=\"license\" href=\"http://creativecommons.org/licenses/by-nc-nd/4.0/\">Creative Commons Attribution-NonCommercial-NoDerivatives 4.0 International License</a>."
   ]
  },
  {
   "cell_type": "markdown",
   "id": "be7e0784",
   "metadata": {},
   "source": [
    "# #02 | Importance of the object's type"
   ]
  },
  {
   "cell_type": "code",
   "execution_count": 8,
   "id": "66d4718d-39f8-4e85-8513-7f3d2f0b830e",
   "metadata": {},
   "outputs": [
    {
     "data": {
      "text/html": [
       "<div>\n",
       "<style scoped>\n",
       "    .dataframe tbody tr th:only-of-type {\n",
       "        vertical-align: middle;\n",
       "    }\n",
       "\n",
       "    .dataframe tbody tr th {\n",
       "        vertical-align: top;\n",
       "    }\n",
       "\n",
       "    .dataframe thead th {\n",
       "        text-align: right;\n",
       "    }\n",
       "</style>\n",
       "<table border=\"1\" class=\"dataframe\">\n",
       "  <thead>\n",
       "    <tr style=\"text-align: right;\">\n",
       "      <th></th>\n",
       "      <th>total_bill</th>\n",
       "      <th>tip</th>\n",
       "      <th>sex</th>\n",
       "      <th>smoker</th>\n",
       "      <th>day</th>\n",
       "      <th>time</th>\n",
       "      <th>size</th>\n",
       "    </tr>\n",
       "  </thead>\n",
       "  <tbody>\n",
       "    <tr>\n",
       "      <th>0</th>\n",
       "      <td>16.99</td>\n",
       "      <td>1.01</td>\n",
       "      <td>Female</td>\n",
       "      <td>No</td>\n",
       "      <td>Sun</td>\n",
       "      <td>Dinner</td>\n",
       "      <td>2</td>\n",
       "    </tr>\n",
       "    <tr>\n",
       "      <th>1</th>\n",
       "      <td>10.34</td>\n",
       "      <td>1.66</td>\n",
       "      <td>Male</td>\n",
       "      <td>No</td>\n",
       "      <td>Sun</td>\n",
       "      <td>Dinner</td>\n",
       "      <td>3</td>\n",
       "    </tr>\n",
       "    <tr>\n",
       "      <th>...</th>\n",
       "      <td>...</td>\n",
       "      <td>...</td>\n",
       "      <td>...</td>\n",
       "      <td>...</td>\n",
       "      <td>...</td>\n",
       "      <td>...</td>\n",
       "      <td>...</td>\n",
       "    </tr>\n",
       "    <tr>\n",
       "      <th>242</th>\n",
       "      <td>17.82</td>\n",
       "      <td>1.75</td>\n",
       "      <td>Male</td>\n",
       "      <td>No</td>\n",
       "      <td>Sat</td>\n",
       "      <td>Dinner</td>\n",
       "      <td>2</td>\n",
       "    </tr>\n",
       "    <tr>\n",
       "      <th>243</th>\n",
       "      <td>18.78</td>\n",
       "      <td>3.00</td>\n",
       "      <td>Female</td>\n",
       "      <td>No</td>\n",
       "      <td>Thur</td>\n",
       "      <td>Dinner</td>\n",
       "      <td>2</td>\n",
       "    </tr>\n",
       "  </tbody>\n",
       "</table>\n",
       "<p>244 rows × 7 columns</p>\n",
       "</div>"
      ],
      "text/plain": [
       "    total_bill   tip     sex smoker   day    time  size\n",
       "0        16.99  1.01  Female     No   Sun  Dinner     2\n",
       "1        10.34  1.66    Male     No   Sun  Dinner     3\n",
       "..         ...   ...     ...    ...   ...     ...   ...\n",
       "242      17.82  1.75    Male     No   Sat  Dinner     2\n",
       "243      18.78  3.00  Female     No  Thur  Dinner     2\n",
       "\n",
       "[244 rows x 7 columns]"
      ]
     },
     "execution_count": 8,
     "metadata": {},
     "output_type": "execute_result"
    }
   ],
   "source": [
    "import seaborn as sns #! starting object\n",
    "import pandas as pd\n",
    "\n",
    "pd.set_option('display.min_rows', 4)\n",
    "pd.set_option('display.max_rows', 10)\n",
    "\n",
    "df_tips = sns.load_dataset('tips')\n",
    "df_tips.total_bill = df_tips.total_bill.astype(str)\n",
    "df_tips"
   ]
  },
  {
   "cell_type": "markdown",
   "id": "6f2174d5-53f6-4420-a2f2-9f05bcb09652",
   "metadata": {},
   "source": [
    "We are working with the `total_bill Series`, whose values could be interpreted as numericals. But, are they really numerical?"
   ]
  },
  {
   "cell_type": "code",
   "execution_count": 10,
   "id": "768951e4-9feb-46e0-80e2-a43c004191d0",
   "metadata": {},
   "outputs": [],
   "source": [
    "series_object = df_tips.total_bill.astype(str)"
   ]
  },
  {
   "cell_type": "code",
   "execution_count": 11,
   "id": "3565dc6b-72b5-4fae-aa2d-e2e8ac4a0ce8",
   "metadata": {},
   "outputs": [
    {
     "data": {
      "text/plain": [
       "0      16.99\n",
       "1      10.34\n",
       "       ...  \n",
       "242    17.82\n",
       "243    18.78\n",
       "Name: total_bill, Length: 244, dtype: object"
      ]
     },
     "execution_count": 11,
     "metadata": {},
     "output_type": "execute_result"
    }
   ],
   "source": [
    "series_object"
   ]
  },
  {
   "cell_type": "markdown",
   "id": "742d6ffc-cd4c-4b28-87e5-0fdefef6dae8",
   "metadata": {},
   "source": [
    "The values are interpreted as `dtype: object`, what does this means?"
   ]
  },
  {
   "cell_type": "code",
   "execution_count": 12,
   "id": "5d09ae6d-8b84-4e2c-b358-a0e93c427c5e",
   "metadata": {},
   "outputs": [
    {
     "data": {
      "text/plain": [
       "array(['16.99', '10.34', '21.01', '23.68', '24.59', '25.29', '8.77',\n",
       "       '26.88', '15.04', '14.78', '10.27', '35.26', '15.42', '18.43',\n",
       "       '14.83', '21.58', '10.33', '16.29', '16.97', '20.65', '17.92',\n",
       "       '20.29', '15.77', '39.42', '19.82', '17.81', '13.37', '12.69',\n",
       "       '21.7', '19.65', '9.55', '18.35', '15.06', '20.69', '17.78',\n",
       "       '24.06', '16.31', '16.93', '18.69', '31.27', '16.04', '17.46',\n",
       "       '13.94', '9.68', '30.4', '18.29', '22.23', '32.4', '28.55',\n",
       "       '18.04', '12.54', '10.29', '34.81', '9.94', '25.56', '19.49',\n",
       "       '38.01', '26.41', '11.24', '48.27', '20.29', '13.81', '11.02',\n",
       "       '18.29', '17.59', '20.08', '16.45', '3.07', '20.23', '15.01',\n",
       "       '12.02', '17.07', '26.86', '25.28', '14.73', '10.51', '17.92',\n",
       "       '27.2', '22.76', '17.29', '19.44', '16.66', '10.07', '32.68',\n",
       "       '15.98', '34.83', '13.03', '18.28', '24.71', '21.16', '28.97',\n",
       "       '22.49', '5.75', '16.32', '22.75', '40.17', '27.28', '12.03',\n",
       "       '21.01', '12.46', '11.35', '15.38', '44.3', '22.42', '20.92',\n",
       "       '15.36', '20.49', '25.21', '18.24', '14.31', '14.0', '7.25',\n",
       "       '38.07', '23.95', '25.71', '17.31', '29.93', '10.65', '12.43',\n",
       "       '24.08', '11.69', '13.42', '14.26', '15.95', '12.48', '29.8',\n",
       "       '8.52', '14.52', '11.38', '22.82', '19.08', '20.27', '11.17',\n",
       "       '12.26', '18.26', '8.51', '10.33', '14.15', '16.0', '13.16',\n",
       "       '17.47', '34.3', '41.19', '27.05', '16.43', '8.35', '18.64',\n",
       "       '11.87', '9.78', '7.51', '14.07', '13.13', '17.26', '24.55',\n",
       "       '19.77', '29.85', '48.17', '25.0', '13.39', '16.49', '21.5',\n",
       "       '12.66', '16.21', '13.81', '17.51', '24.52', '20.76', '31.71',\n",
       "       '10.59', '10.63', '50.81', '15.81', '7.25', '31.85', '16.82',\n",
       "       '32.9', '17.89', '14.48', '9.6', '34.63', '34.65', '23.33',\n",
       "       '45.35', '23.17', '40.55', '20.69', '20.9', '30.46', '18.15',\n",
       "       '23.1', '15.69', '19.81', '28.44', '15.48', '16.58', '7.56',\n",
       "       '10.34', '43.11', '13.0', '13.51', '18.71', '12.74', '13.0',\n",
       "       '16.4', '20.53', '16.47', '26.59', '38.73', '24.27', '12.76',\n",
       "       '30.06', '25.89', '48.33', '13.27', '28.17', '12.9', '28.15',\n",
       "       '11.59', '7.74', '30.14', '12.16', '13.42', '8.58', '15.98',\n",
       "       '13.42', '16.27', '10.09', '20.45', '13.28', '22.12', '24.01',\n",
       "       '15.69', '11.61', '10.77', '15.53', '10.07', '12.6', '32.83',\n",
       "       '35.83', '29.03', '27.18', '22.67', '17.82', '18.78'], dtype=object)"
      ]
     },
     "execution_count": 12,
     "metadata": {},
     "output_type": "execute_result"
    }
   ],
   "source": [
    "series_object.values"
   ]
  },
  {
   "cell_type": "markdown",
   "id": "2ab4c482-6d04-495f-8a97-2379c9e7216d",
   "metadata": {},
   "source": [
    "The **dtype: [object](https://stackoverflow.com/a/29877845)** normally interprets the values as a `string`, a sequence of characters which you cannot use to apply mathematical operations to. That's why it's concatenating the values when you try to sum them up:"
   ]
  },
  {
   "cell_type": "code",
   "execution_count": 13,
   "id": "a6e34f5d-f293-4ce2-a79b-32c28fbba830",
   "metadata": {},
   "outputs": [
    {
     "data": {
      "text/plain": [
       "'16.9910.3421.0123.6824.5925.298.7726.8815.0414.7810.2735.2615.4218.4314.8321.5810.3316.2916.9720.6517.9220.2915.7739.4219.8217.8113.3712.6921.719.659.5518.3515.0620.6917.7824.0616.3116.9318.6931.2716.0417.4613.949.6830.418.2922.2332.428.5518.0412.5410.2934.819.9425.5619.4938.0126.4111.2448.2720.2913.8111.0218.2917.5920.0816.453.0720.2315.0112.0217.0726.8625.2814.7310.5117.9227.222.7617.2919.4416.6610.0732.6815.9834.8313.0318.2824.7121.1628.9722.495.7516.3222.7540.1727.2812.0321.0112.4611.3515.3844.322.4220.9215.3620.4925.2118.2414.3114.07.2538.0723.9525.7117.3129.9310.6512.4324.0811.6913.4214.2615.9512.4829.88.5214.5211.3822.8219.0820.2711.1712.2618.268.5110.3314.1516.013.1617.4734.341.1927.0516.438.3518.6411.879.787.5114.0713.1317.2624.5519.7729.8548.1725.013.3916.4921.512.6616.2113.8117.5124.5220.7631.7110.5910.6350.8115.817.2531.8516.8232.917.8914.489.634.6334.6523.3345.3523.1740.5520.6920.930.4618.1523.115.6919.8128.4415.4816.587.5610.3443.1113.013.5118.7112.7413.016.420.5316.4726.5938.7324.2712.7630.0625.8948.3313.2728.1712.928.1511.597.7430.1412.1613.428.5815.9813.4216.2710.0920.4513.2822.1224.0115.6911.6110.7715.5310.0712.632.8335.8329.0327.1822.6717.8218.78'"
      ]
     },
     "execution_count": 13,
     "metadata": {},
     "output_type": "execute_result"
    }
   ],
   "source": [
    "series_object.sum()"
   ]
  },
  {
   "cell_type": "markdown",
   "id": "eaa10533-36ae-43f8-94ab-239d8dd997c9",
   "metadata": {},
   "source": [
    "Is there any way we could turn the `dtype: object` to a numerical `dtype`?"
   ]
  },
  {
   "cell_type": "code",
   "execution_count": 23,
   "id": "4b504122-6f96-4626-bced-aae72c5cfa1d",
   "metadata": {},
   "outputs": [
    {
     "data": {
      "text/plain": [
       "0      16.99\n",
       "1      10.34\n",
       "       ...  \n",
       "242    17.82\n",
       "243    18.78\n",
       "Name: total_bill, Length: 244, dtype: float64"
      ]
     },
     "execution_count": 23,
     "metadata": {},
     "output_type": "execute_result"
    }
   ],
   "source": [
    "series_object.astype(float)"
   ]
  },
  {
   "cell_type": "markdown",
   "id": "5a705028-b432-4ea6-a092-c76bdc12b98e",
   "metadata": {},
   "source": [
    "Now we could perform the `sum()`"
   ]
  },
  {
   "cell_type": "code",
   "execution_count": 25,
   "id": "f3559ecf-ba8b-43d8-b951-e7177b502e35",
   "metadata": {},
   "outputs": [
    {
     "data": {
      "text/plain": [
       "4827.77"
      ]
     },
     "execution_count": 25,
     "metadata": {},
     "output_type": "execute_result"
    }
   ],
   "source": [
    "series_object.astype(float).sum()"
   ]
  }
 ],
 "metadata": {
  "authors": [
   {
    "blog": "https//blog.resolvingpython.com",
    "name": "Jesús López",
    "twitter": "https://twitter.com/jsulopz"
   }
  ],
  "kernelspec": {
   "display_name": "Python 3 (ipykernel)",
   "language": "python",
   "name": "python3"
  },
  "language_info": {
   "codemirror_mode": {
    "name": "ipython",
    "version": 3
   },
   "file_extension": ".py",
   "mimetype": "text/x-python",
   "name": "python",
   "nbconvert_exporter": "python",
   "pygments_lexer": "ipython3",
   "version": "3.9.7"
  }
 },
 "nbformat": 4,
 "nbformat_minor": 5
}
