{
 "cells": [
  {
   "cell_type": "markdown",
   "id": "79e94787-3261-41d2-89ce-59d8aa2f69d7",
   "metadata": {},
   "source": [
    "![](../../../src/logo.svg)\n",
    "\n",
    "**© Jesús López**\n",
    "\n",
    "Follow him on **[LinkedIn](https://linkedin.com/in/jsulopz)** or **[Twitter](https://twitter.com/jsulopz)**\n",
    "\n",
    "<br>\n",
    "<a rel=\"license\" href=\"http://creativecommons.org/licenses/by-nc-nd/4.0/\"><img alt=\"Creative Commons License\" style=\"border-width:0\" src=\"https://i.creativecommons.org/l/by-nc-nd/4.0/88x31.png\" /></a><br />This work is licensed under a <a rel=\"license\" href=\"http://creativecommons.org/licenses/by-nc-nd/4.0/\">Creative Commons Attribution-NonCommercial-NoDerivatives 4.0 International License</a>."
   ]
  },
  {
   "cell_type": "markdown",
   "id": "b85dd7e2",
   "metadata": {},
   "source": [
    "# #04 | What does it happen inside the computer when you overwrite the instance?"
   ]
  },
  {
   "cell_type": "code",
   "execution_count": 1,
   "id": "3a271703",
   "metadata": {},
   "outputs": [
    {
     "data": {
      "text/html": [
       "<div>\n",
       "<style scoped>\n",
       "    .dataframe tbody tr th:only-of-type {\n",
       "        vertical-align: middle;\n",
       "    }\n",
       "\n",
       "    .dataframe tbody tr th {\n",
       "        vertical-align: top;\n",
       "    }\n",
       "\n",
       "    .dataframe thead th {\n",
       "        text-align: right;\n",
       "    }\n",
       "</style>\n",
       "<table border=\"1\" class=\"dataframe\">\n",
       "  <thead>\n",
       "    <tr style=\"text-align: right;\">\n",
       "      <th></th>\n",
       "      <th>total_bill</th>\n",
       "      <th>tip</th>\n",
       "      <th>sex</th>\n",
       "      <th>smoker</th>\n",
       "      <th>day</th>\n",
       "      <th>time</th>\n",
       "      <th>size</th>\n",
       "    </tr>\n",
       "  </thead>\n",
       "  <tbody>\n",
       "    <tr>\n",
       "      <th>0</th>\n",
       "      <td>16.99</td>\n",
       "      <td>1.01</td>\n",
       "      <td>Female</td>\n",
       "      <td>No</td>\n",
       "      <td>Sun</td>\n",
       "      <td>Dinner</td>\n",
       "      <td>2</td>\n",
       "    </tr>\n",
       "    <tr>\n",
       "      <th>1</th>\n",
       "      <td>10.34</td>\n",
       "      <td>1.66</td>\n",
       "      <td>Male</td>\n",
       "      <td>No</td>\n",
       "      <td>Sun</td>\n",
       "      <td>Dinner</td>\n",
       "      <td>3</td>\n",
       "    </tr>\n",
       "    <tr>\n",
       "      <th>...</th>\n",
       "      <td>...</td>\n",
       "      <td>...</td>\n",
       "      <td>...</td>\n",
       "      <td>...</td>\n",
       "      <td>...</td>\n",
       "      <td>...</td>\n",
       "      <td>...</td>\n",
       "    </tr>\n",
       "    <tr>\n",
       "      <th>242</th>\n",
       "      <td>17.82</td>\n",
       "      <td>1.75</td>\n",
       "      <td>Male</td>\n",
       "      <td>No</td>\n",
       "      <td>Sat</td>\n",
       "      <td>Dinner</td>\n",
       "      <td>2</td>\n",
       "    </tr>\n",
       "    <tr>\n",
       "      <th>243</th>\n",
       "      <td>18.78</td>\n",
       "      <td>3.00</td>\n",
       "      <td>Female</td>\n",
       "      <td>No</td>\n",
       "      <td>Thur</td>\n",
       "      <td>Dinner</td>\n",
       "      <td>2</td>\n",
       "    </tr>\n",
       "  </tbody>\n",
       "</table>\n",
       "<p>244 rows × 7 columns</p>\n",
       "</div>"
      ],
      "text/plain": [
       "    total_bill   tip     sex smoker   day    time  size\n",
       "0        16.99  1.01  Female     No   Sun  Dinner     2\n",
       "1        10.34  1.66    Male     No   Sun  Dinner     3\n",
       "..         ...   ...     ...    ...   ...     ...   ...\n",
       "242      17.82  1.75    Male     No   Sat  Dinner     2\n",
       "243      18.78  3.00  Female     No  Thur  Dinner     2\n",
       "\n",
       "[244 rows x 7 columns]"
      ]
     },
     "execution_count": 1,
     "metadata": {},
     "output_type": "execute_result"
    }
   ],
   "source": [
    "import seaborn as sns #! starting object\n",
    "import pandas as pd\n",
    "\n",
    "pd.set_option('display.min_rows', 4)\n",
    "pd.set_option('display.max_rows', 10)\n",
    "\n",
    "df_tips = sns.load_dataset('tips')\n",
    "df_tips.total_bill = df_tips.total_bill.astype(str)\n",
    "df_tips"
   ]
  },
  {
   "cell_type": "markdown",
   "id": "f257a31f-943f-49de-b03e-1d8d7e1ce63d",
   "metadata": {},
   "source": [
    "An instance is a box in the memory of the computer:"
   ]
  },
  {
   "cell_type": "markdown",
   "id": "53c44498-6c6f-4b4b-b3aa-32ea03cf28ff",
   "metadata": {},
   "source": [
    "![](numpy_vs_python.png)"
   ]
  },
  {
   "cell_type": "markdown",
   "id": "2084add5-67a4-493f-8478-ef7c03c4fd0d",
   "metadata": {},
   "source": [
    "We wanted to sum the values of the following object. Once the `Series values` are interpreted as a numerical object as follows:"
   ]
  },
  {
   "cell_type": "code",
   "execution_count": 5,
   "id": "e5fd2ed0-5e6d-4c5d-82aa-3f177392d797",
   "metadata": {},
   "outputs": [
    {
     "data": {
      "text/plain": [
       "0      16.99\n",
       "1      10.34\n",
       "       ...  \n",
       "242    17.82\n",
       "243    18.78\n",
       "Name: total_bill, Length: 244, dtype: float64"
      ]
     },
     "execution_count": 5,
     "metadata": {},
     "output_type": "execute_result"
    }
   ],
   "source": [
    "df_tips.total_bill.astype(float)"
   ]
  },
  {
   "cell_type": "markdown",
   "id": "8632be36-80e0-4e9d-b905-7f1eb7cfa7a1",
   "metadata": {},
   "source": [
    "We thought we could sum the values:"
   ]
  },
  {
   "cell_type": "code",
   "execution_count": 6,
   "id": "96c6cae0-3a1c-4c60-952f-1d96b91a3b7a",
   "metadata": {},
   "outputs": [
    {
     "data": {
      "text/plain": [
       "'16.9910.3421.0123.6824.5925.298.7726.8815.0414.7810.2735.2615.4218.4314.8321.5810.3316.2916.9720.6517.9220.2915.7739.4219.8217.8113.3712.6921.719.659.5518.3515.0620.6917.7824.0616.3116.9318.6931.2716.0417.4613.949.6830.418.2922.2332.428.5518.0412.5410.2934.819.9425.5619.4938.0126.4111.2448.2720.2913.8111.0218.2917.5920.0816.453.0720.2315.0112.0217.0726.8625.2814.7310.5117.9227.222.7617.2919.4416.6610.0732.6815.9834.8313.0318.2824.7121.1628.9722.495.7516.3222.7540.1727.2812.0321.0112.4611.3515.3844.322.4220.9215.3620.4925.2118.2414.3114.07.2538.0723.9525.7117.3129.9310.6512.4324.0811.6913.4214.2615.9512.4829.88.5214.5211.3822.8219.0820.2711.1712.2618.268.5110.3314.1516.013.1617.4734.341.1927.0516.438.3518.6411.879.787.5114.0713.1317.2624.5519.7729.8548.1725.013.3916.4921.512.6616.2113.8117.5124.5220.7631.7110.5910.6350.8115.817.2531.8516.8232.917.8914.489.634.6334.6523.3345.3523.1740.5520.6920.930.4618.1523.115.6919.8128.4415.4816.587.5610.3443.1113.013.5118.7112.7413.016.420.5316.4726.5938.7324.2712.7630.0625.8948.3313.2728.1712.928.1511.597.7430.1412.1613.428.5815.9813.4216.2710.0920.4513.2822.1224.0115.6911.6110.7715.5310.0712.632.8335.8329.0327.1822.6717.8218.78'"
      ]
     },
     "execution_count": 6,
     "metadata": {},
     "output_type": "execute_result"
    }
   ],
   "source": [
    "df_tips.total_bill.sum()"
   ]
  },
  {
   "cell_type": "markdown",
   "id": "cc1c6e0e-3dfb-4124-858c-6fb7bad2015a",
   "metadata": {},
   "source": [
    "But it's concatenating the values as if it was a `dtype: object`. Not a `dtype: float64`. It is normal because we haven't change the object stored within the instance of `df_tips.total_bill`. It still remains a `dtype: object` as you may observe below:"
   ]
  },
  {
   "cell_type": "code",
   "execution_count": 8,
   "id": "110c552d-e540-4844-95b1-449b0defe932",
   "metadata": {},
   "outputs": [
    {
     "data": {
      "text/plain": [
       "0      16.99\n",
       "1      10.34\n",
       "       ...  \n",
       "242    17.82\n",
       "243    18.78\n",
       "Name: total_bill, Length: 244, dtype: object"
      ]
     },
     "execution_count": 8,
     "metadata": {},
     "output_type": "execute_result"
    }
   ],
   "source": [
    "df_tips.total_bill"
   ]
  },
  {
   "cell_type": "markdown",
   "id": "0c853758-5afc-41e8-8a08-6958b0b5b3d7",
   "metadata": {},
   "source": [
    "Let's take a snapshot of the `instance address`:"
   ]
  },
  {
   "cell_type": "code",
   "execution_count": 17,
   "id": "ee8dee31-d0f4-49a0-a2e2-8b3ed42eff58",
   "metadata": {},
   "outputs": [
    {
     "data": {
      "text/plain": [
       "'0x160025ac0'"
      ]
     },
     "execution_count": 17,
     "metadata": {},
     "output_type": "execute_result"
    }
   ],
   "source": [
    "hex(id(df_tips.total_bill))"
   ]
  },
  {
   "cell_type": "code",
   "execution_count": 18,
   "id": "229337d5-cb44-404d-ae46-2d6d799d6de5",
   "metadata": {},
   "outputs": [],
   "source": [
    "df_tips.total_bill = df_tips.total_bill.astype(float)"
   ]
  },
  {
   "cell_type": "code",
   "execution_count": 19,
   "id": "42b6dbe1-bfd7-45ff-861b-e95509730b8b",
   "metadata": {},
   "outputs": [
    {
     "data": {
      "text/plain": [
       "0      16.99\n",
       "1      10.34\n",
       "       ...  \n",
       "242    17.82\n",
       "243    18.78\n",
       "Name: total_bill, Length: 244, dtype: float64"
      ]
     },
     "execution_count": 19,
     "metadata": {},
     "output_type": "execute_result"
    }
   ],
   "source": [
    "df_tips.total_bill"
   ]
  },
  {
   "cell_type": "markdown",
   "id": "6615ffec-047c-448a-b80d-01fadf6cf2bb",
   "metadata": {},
   "source": [
    "Let's take a snapshot of the overwritten `instance address`:"
   ]
  },
  {
   "cell_type": "code",
   "execution_count": 20,
   "id": "46262ef0-bdb1-4430-ae8d-57fc7728832d",
   "metadata": {},
   "outputs": [
    {
     "data": {
      "text/plain": [
       "'0x15c347e50'"
      ]
     },
     "execution_count": 20,
     "metadata": {},
     "output_type": "execute_result"
    }
   ],
   "source": [
    "hex(id(df_tips.total_bill))"
   ]
  },
  {
   "cell_type": "markdown",
   "id": "328c8843-c492-4925-866c-1a90d911df1e",
   "metadata": {},
   "source": [
    "![](<overwriting the instance.jpg>)"
   ]
  },
  {
   "cell_type": "markdown",
   "id": "a34372e7-5bc4-4c13-8f94-785575fe4122",
   "metadata": {},
   "source": [
    "Now that it is different, it means that the object stored in `df_tips.total_bill` has changed to a new `instance address` for optimization; different objects don't need the same ammount of space in the memory of the computer."
   ]
  },
  {
   "cell_type": "markdown",
   "id": "497aa91a-becb-4a91-bce4-51c22f0c1433",
   "metadata": {},
   "source": [
    "Anyways, we can now sum up the values:"
   ]
  },
  {
   "cell_type": "code",
   "execution_count": 21,
   "id": "c468d03f-1b79-489b-a387-c700e9142504",
   "metadata": {},
   "outputs": [
    {
     "data": {
      "text/plain": [
       "4827.77"
      ]
     },
     "execution_count": 21,
     "metadata": {},
     "output_type": "execute_result"
    }
   ],
   "source": [
    "df_tips.total_bill.sum()"
   ]
  }
 ],
 "metadata": {
  "authors": [
   {
    "blog": "https//blog.resolvingpython.com",
    "name": "Jesús López",
    "twitter": "https://twitter.com/jsulopz"
   }
  ],
  "kernelspec": {
   "display_name": "Python 3 (ipykernel)",
   "language": "python",
   "name": "python3"
  },
  "language_info": {
   "codemirror_mode": {
    "name": "ipython",
    "version": 3
   },
   "file_extension": ".py",
   "mimetype": "text/x-python",
   "name": "python",
   "nbconvert_exporter": "python",
   "pygments_lexer": "ipython3",
   "version": "3.9.7"
  }
 },
 "nbformat": 4,
 "nbformat_minor": 5
}
