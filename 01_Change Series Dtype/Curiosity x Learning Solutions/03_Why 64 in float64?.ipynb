{
 "cells": [
  {
   "cell_type": "markdown",
   "id": "89746b0c-9186-4bcb-a994-f5b8064e9f3c",
   "metadata": {},
   "source": [
    "![](../../src/logo.svg)\n",
    "\n",
    "**© Jesús López**\n",
    "\n",
    "Follow him on **[LinkedIn](https://linkedin.com/in/jsulopz)** or **[Twitter](https://twitter.com/jsulopz)**\n",
    "\n",
    "<br>\n",
    "<a rel=\"license\" href=\"http://creativecommons.org/licenses/by-nc-nd/4.0/\"><img alt=\"Creative Commons License\" style=\"border-width:0\" src=\"https://i.creativecommons.org/l/by-nc-nd/4.0/88x31.png\" /></a><br />This work is licensed under a <a rel=\"license\" href=\"http://creativecommons.org/licenses/by-nc-nd/4.0/\">Creative Commons Attribution-NonCommercial-NoDerivatives 4.0 International License</a>."
   ]
  },
  {
   "cell_type": "markdown",
   "id": "92d0f465",
   "metadata": {},
   "source": [
    "# #03 | Why 64 in float64?"
   ]
  },
  {
   "cell_type": "code",
   "execution_count": 1,
   "id": "cad85982",
   "metadata": {},
   "outputs": [
    {
     "data": {
      "text/html": [
       "<div>\n",
       "<style scoped>\n",
       "    .dataframe tbody tr th:only-of-type {\n",
       "        vertical-align: middle;\n",
       "    }\n",
       "\n",
       "    .dataframe tbody tr th {\n",
       "        vertical-align: top;\n",
       "    }\n",
       "\n",
       "    .dataframe thead th {\n",
       "        text-align: right;\n",
       "    }\n",
       "</style>\n",
       "<table border=\"1\" class=\"dataframe\">\n",
       "  <thead>\n",
       "    <tr style=\"text-align: right;\">\n",
       "      <th></th>\n",
       "      <th>total_bill</th>\n",
       "      <th>tip</th>\n",
       "      <th>sex</th>\n",
       "      <th>smoker</th>\n",
       "      <th>day</th>\n",
       "      <th>time</th>\n",
       "      <th>size</th>\n",
       "    </tr>\n",
       "  </thead>\n",
       "  <tbody>\n",
       "    <tr>\n",
       "      <th>0</th>\n",
       "      <td>16.99</td>\n",
       "      <td>1.01</td>\n",
       "      <td>Female</td>\n",
       "      <td>No</td>\n",
       "      <td>Sun</td>\n",
       "      <td>Dinner</td>\n",
       "      <td>2</td>\n",
       "    </tr>\n",
       "    <tr>\n",
       "      <th>1</th>\n",
       "      <td>10.34</td>\n",
       "      <td>1.66</td>\n",
       "      <td>Male</td>\n",
       "      <td>No</td>\n",
       "      <td>Sun</td>\n",
       "      <td>Dinner</td>\n",
       "      <td>3</td>\n",
       "    </tr>\n",
       "    <tr>\n",
       "      <th>...</th>\n",
       "      <td>...</td>\n",
       "      <td>...</td>\n",
       "      <td>...</td>\n",
       "      <td>...</td>\n",
       "      <td>...</td>\n",
       "      <td>...</td>\n",
       "      <td>...</td>\n",
       "    </tr>\n",
       "    <tr>\n",
       "      <th>242</th>\n",
       "      <td>17.82</td>\n",
       "      <td>1.75</td>\n",
       "      <td>Male</td>\n",
       "      <td>No</td>\n",
       "      <td>Sat</td>\n",
       "      <td>Dinner</td>\n",
       "      <td>2</td>\n",
       "    </tr>\n",
       "    <tr>\n",
       "      <th>243</th>\n",
       "      <td>18.78</td>\n",
       "      <td>3.00</td>\n",
       "      <td>Female</td>\n",
       "      <td>No</td>\n",
       "      <td>Thur</td>\n",
       "      <td>Dinner</td>\n",
       "      <td>2</td>\n",
       "    </tr>\n",
       "  </tbody>\n",
       "</table>\n",
       "<p>244 rows × 7 columns</p>\n",
       "</div>"
      ],
      "text/plain": [
       "    total_bill   tip     sex smoker   day    time  size\n",
       "0        16.99  1.01  Female     No   Sun  Dinner     2\n",
       "1        10.34  1.66    Male     No   Sun  Dinner     3\n",
       "..         ...   ...     ...    ...   ...     ...   ...\n",
       "242      17.82  1.75    Male     No   Sat  Dinner     2\n",
       "243      18.78  3.00  Female     No  Thur  Dinner     2\n",
       "\n",
       "[244 rows x 7 columns]"
      ]
     },
     "execution_count": 1,
     "metadata": {},
     "output_type": "execute_result"
    }
   ],
   "source": [
    "import seaborn as sns #! starting object\n",
    "import pandas as pd\n",
    "\n",
    "pd.set_option('display.min_rows', 4)\n",
    "pd.set_option('display.max_rows', 10)\n",
    "\n",
    "df_tips = sns.load_dataset('tips')\n",
    "df_tips.total_bill = df_tips.total_bill.astype(str)\n",
    "df_tips"
   ]
  },
  {
   "cell_type": "markdown",
   "id": "1172be60-860f-412f-8328-e558831cdac2",
   "metadata": {},
   "source": [
    "We converted the `total_bill` values dtype into a `float`:"
   ]
  },
  {
   "cell_type": "code",
   "execution_count": 2,
   "id": "6f7891a3-4216-45a5-94a4-7cd89a783b8a",
   "metadata": {},
   "outputs": [
    {
     "data": {
      "text/plain": [
       "0      16.99\n",
       "1      10.34\n",
       "       ...  \n",
       "242    17.82\n",
       "243    18.78\n",
       "Name: total_bill, Length: 244, dtype: float64"
      ]
     },
     "execution_count": 2,
     "metadata": {},
     "output_type": "execute_result"
    }
   ],
   "source": [
    "df_tips.total_bill.astype(float)"
   ]
  },
  {
   "cell_type": "markdown",
   "id": "65972f60-729c-431b-a703-9904c276a411",
   "metadata": {},
   "source": [
    "But we got `float64`, why are they using the 64? What's the meaning of it?\n",
    "\n",
    "- Computers treats the information at its core with 0s and 1s."
   ]
  },
  {
   "cell_type": "code",
   "execution_count": 9,
   "id": "c81faebb-e624-416d-993c-617075389bac",
   "metadata": {},
   "outputs": [
    {
     "data": {
      "text/plain": [
       "1"
      ]
     },
     "execution_count": 9,
     "metadata": {},
     "output_type": "execute_result"
    }
   ],
   "source": [
    "import numpy as np\n",
    "\n",
    "np.uint8(257)"
   ]
  },
  {
   "cell_type": "code",
   "execution_count": 10,
   "id": "6af22059-4770-4f4b-a604-fa08072876db",
   "metadata": {},
   "outputs": [
    {
     "data": {
      "text/plain": [
       "255"
      ]
     },
     "execution_count": 10,
     "metadata": {},
     "output_type": "execute_result"
    }
   ],
   "source": [
    "np.uint8(255)"
   ]
  },
  {
   "cell_type": "code",
   "execution_count": 11,
   "id": "59da6d2f-eb6b-4739-8242-8c540dbcbce0",
   "metadata": {},
   "outputs": [
    {
     "data": {
      "text/plain": [
       "0"
      ]
     },
     "execution_count": 11,
     "metadata": {},
     "output_type": "execute_result"
    }
   ],
   "source": [
    "np.uint8(256)"
   ]
  },
  {
   "cell_type": "markdown",
   "id": "f3ed349c-0569-4ef8-a997-b902911e5a4c",
   "metadata": {},
   "source": [
    "Why Python is reseting the counter when the number surpasses the limit of 255?"
   ]
  },
  {
   "cell_type": "markdown",
   "id": "c2780bad-4cb8-4673-a1e0-7a2950d0187c",
   "metadata": {},
   "source": [
    "- You could make up to 256 (0 - 255) combinations of 0s and 1s with 8 boxes."
   ]
  },
  {
   "cell_type": "raw",
   "id": "614361b5-0c0b-4931-8b4a-91fc8abeb949",
   "metadata": {},
   "source": [
    "_ _ _ _  _ _ _ _"
   ]
  },
  {
   "cell_type": "raw",
   "id": "4cf205f6-b160-4bc3-9735-86a83d6b597f",
   "metadata": {},
   "source": [
    "0000 0000 #0\n",
    "0000 0001 #1\n",
    "0000 0011 #2\n",
    "...\n",
    "0100 1111 #134\n",
    "...\n",
    "1111 1110 #254\n",
    "1111 1111 #255"
   ]
  },
  {
   "cell_type": "markdown",
   "id": "696cc334-06a5-4b6a-a3a2-fd3d91719fc9",
   "metadata": {},
   "source": [
    "Computing 2 to the 8th, we can see how many combinations we can get:"
   ]
  },
  {
   "cell_type": "code",
   "execution_count": 14,
   "id": "9c793415-c442-4db5-ab81-d0fe086d47a7",
   "metadata": {},
   "outputs": [
    {
     "data": {
      "text/plain": [
       "256"
      ]
     },
     "execution_count": 14,
     "metadata": {},
     "output_type": "execute_result"
    }
   ],
   "source": [
    "2**8"
   ]
  },
  {
   "cell_type": "markdown",
   "id": "cf554f5c-41f6-4fc0-a35f-2f5ab5b8dca2",
   "metadata": {},
   "source": [
    "If we had just 2 bits:"
   ]
  },
  {
   "cell_type": "raw",
   "id": "fcca053c-cf58-43e1-8111-442c205eea7e",
   "metadata": {},
   "source": [
    "_ _"
   ]
  },
  {
   "cell_type": "markdown",
   "id": "7c18a7df-4e45-42ea-b1ed-c642be9297c0",
   "metadata": {},
   "source": [
    "We could make up to 4 combinations that would reference other objects:"
   ]
  },
  {
   "cell_type": "raw",
   "id": "58c6da14-3336-4ff5-9848-fa2d8ac63466",
   "metadata": {},
   "source": [
    "00 #0 \n",
    "01 #1\n",
    "10 #2\n",
    "11 #3"
   ]
  },
  {
   "cell_type": "markdown",
   "id": "8d64fb42-0c94-4677-9015-92096191e155",
   "metadata": {},
   "source": [
    "The ASCII Code works the same way to interpret the characters of the alphabet:"
   ]
  },
  {
   "cell_type": "markdown",
   "id": "7714ecca-32c6-4443-bcc6-f556495b96ce",
   "metadata": {},
   "source": [
    "![](ascii-binary-chart.gif)"
   ]
  },
  {
   "cell_type": "markdown",
   "id": "fa5bae20-c5d5-4060-a119-0165a59aec54",
   "metadata": {},
   "source": [
    "How is this happening inside the computer?"
   ]
  },
  {
   "cell_type": "markdown",
   "id": "0cf6b183-e0fd-4f13-9f45-d679d4572917",
   "metadata": {},
   "source": [
    "<a href=\"http://www.youtube.com/watch?feature=player_embedded&v=Xpk67YzOn5w\" target=\"_blank\">\n",
    " <img src=\"http://img.youtube.com/vi/Xpk67YzOn5w/hqdefault.jpg\" alt=\"Watch the video\" width=\"560\" height=\"315\"/>\n",
    "</a>"
   ]
  }
 ],
 "metadata": {
  "authors": [
   {
    "blog": "https//blog.resolvingpython.com",
    "name": "Jesús López",
    "twitter": "https://twitter.com/jsulopz"
   }
  ],
  "kernelspec": {
   "display_name": "Python 3 (ipykernel)",
   "language": "python",
   "name": "python3"
  },
  "language_info": {
   "codemirror_mode": {
    "name": "ipython",
    "version": 3
   },
   "file_extension": ".py",
   "mimetype": "text/x-python",
   "name": "python",
   "nbconvert_exporter": "python",
   "pygments_lexer": "ipython3",
   "version": "3.9.7"
  }
 },
 "nbformat": 4,
 "nbformat_minor": 5
}
