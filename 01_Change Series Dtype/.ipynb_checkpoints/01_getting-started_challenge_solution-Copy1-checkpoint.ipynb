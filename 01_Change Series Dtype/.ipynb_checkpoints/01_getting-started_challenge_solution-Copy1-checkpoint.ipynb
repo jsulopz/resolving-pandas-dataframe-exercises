{
 "cells": [
  {
   "cell_type": "markdown",
   "id": "a9fa1502-2626-47ca-aab3-5fdd696998a7",
   "metadata": {},
   "source": [
    "# How much income the restaurant generated?"
   ]
  },
  {
   "cell_type": "code",
   "execution_count": 10,
   "id": "7ad666cb-2753-41e1-a5ba-7d62a385b300",
   "metadata": {},
   "outputs": [
    {
     "data": {
      "text/html": [
       "<div>\n",
       "<style scoped>\n",
       "    .dataframe tbody tr th:only-of-type {\n",
       "        vertical-align: middle;\n",
       "    }\n",
       "\n",
       "    .dataframe tbody tr th {\n",
       "        vertical-align: top;\n",
       "    }\n",
       "\n",
       "    .dataframe thead th {\n",
       "        text-align: right;\n",
       "    }\n",
       "</style>\n",
       "<table border=\"1\" class=\"dataframe\">\n",
       "  <thead>\n",
       "    <tr style=\"text-align: right;\">\n",
       "      <th></th>\n",
       "      <th>total_bill</th>\n",
       "      <th>tip</th>\n",
       "      <th>sex</th>\n",
       "      <th>smoker</th>\n",
       "      <th>day</th>\n",
       "      <th>time</th>\n",
       "      <th>size</th>\n",
       "    </tr>\n",
       "  </thead>\n",
       "  <tbody>\n",
       "    <tr>\n",
       "      <th>0</th>\n",
       "      <td>16.99</td>\n",
       "      <td>1.01</td>\n",
       "      <td>Female</td>\n",
       "      <td>No</td>\n",
       "      <td>Sun</td>\n",
       "      <td>Dinner</td>\n",
       "      <td>2</td>\n",
       "    </tr>\n",
       "    <tr>\n",
       "      <th>1</th>\n",
       "      <td>10.34</td>\n",
       "      <td>1.66</td>\n",
       "      <td>Male</td>\n",
       "      <td>No</td>\n",
       "      <td>Sun</td>\n",
       "      <td>Dinner</td>\n",
       "      <td>3</td>\n",
       "    </tr>\n",
       "    <tr>\n",
       "      <th>...</th>\n",
       "      <td>...</td>\n",
       "      <td>...</td>\n",
       "      <td>...</td>\n",
       "      <td>...</td>\n",
       "      <td>...</td>\n",
       "      <td>...</td>\n",
       "      <td>...</td>\n",
       "    </tr>\n",
       "    <tr>\n",
       "      <th>242</th>\n",
       "      <td>17.82</td>\n",
       "      <td>1.75</td>\n",
       "      <td>Male</td>\n",
       "      <td>No</td>\n",
       "      <td>Sat</td>\n",
       "      <td>Dinner</td>\n",
       "      <td>2</td>\n",
       "    </tr>\n",
       "    <tr>\n",
       "      <th>243</th>\n",
       "      <td>18.78</td>\n",
       "      <td>3.00</td>\n",
       "      <td>Female</td>\n",
       "      <td>No</td>\n",
       "      <td>Thur</td>\n",
       "      <td>Dinner</td>\n",
       "      <td>2</td>\n",
       "    </tr>\n",
       "  </tbody>\n",
       "</table>\n",
       "<p>244 rows × 7 columns</p>\n",
       "</div>"
      ],
      "text/plain": [
       "    total_bill   tip     sex smoker   day    time  size\n",
       "0        16.99  1.01  Female     No   Sun  Dinner     2\n",
       "1        10.34  1.66    Male     No   Sun  Dinner     3\n",
       "..         ...   ...     ...    ...   ...     ...   ...\n",
       "242      17.82  1.75    Male     No   Sat  Dinner     2\n",
       "243      18.78  3.00  Female     No  Thur  Dinner     2\n",
       "\n",
       "[244 rows x 7 columns]"
      ]
     },
     "execution_count": 10,
     "metadata": {},
     "output_type": "execute_result"
    }
   ],
   "source": [
    "import seaborn as sns #!\n",
    "import pandas as pd\n",
    "\n",
    "pd.set_option('display.min_rows', 4)\n",
    "pd.set_option('display.max_rows', 10)\n",
    "\n",
    "df_tips = sns.load_dataset('tips')\n",
    "df_tips.total_bill = df_tips.total_bill.astype(str)\n",
    "df_tips"
   ]
  },
  {
   "cell_type": "markdown",
   "id": "c9e1eb4b-0c79-4f6b-a869-1f828f5bd107",
   "metadata": {},
   "source": [
    "Apply the [Python Resolver Method](https://gitlab.com/python-resolvers/python-resolver-discipline/-/blob/main/01_Know%20How/01_Resolving%20Python%20Method.md) to solve problems"
   ]
  },
  {
   "cell_type": "markdown",
   "id": "f7b8d51d-1b97-4c90-9d55-ce94c385b4c1",
   "metadata": {
    "tags": []
   },
   "source": [
    "<div class=\"alert alert-success\">\n",
    "    <b>Step 1.</b> Understand the problem\n",
    "</div>"
   ]
  },
  {
   "cell_type": "markdown",
   "id": "1909f064-e6f8-4b0e-8794-3bfafdf5bfa9",
   "metadata": {},
   "source": [
    "- Every row of the dataset represents the transactions at the tables of a restaurant\n",
    "- The `Series total_bill` is the amount people at a table paid\n",
    "- We need to sum up these values"
   ]
  },
  {
   "cell_type": "markdown",
   "id": "fa8ee7bf-7ada-4d39-a819-c094a50a7066",
   "metadata": {
    "tags": []
   },
   "source": [
    "<div class=\"alert alert-success\">\n",
    "    <b>Step 2.</b> Sketch the <b>end <code>object</code></b>\n",
    "</div>"
   ]
  },
  {
   "cell_type": "raw",
   "id": "2178c02e-5388-4ec7-b7fd-c3fdcd613bad",
   "metadata": {
    "tags": []
   },
   "source": [
    "454 dollars"
   ]
  },
  {
   "cell_type": "markdown",
   "id": "646a823a-d0e4-4cc4-92a5-0f6f9b5a4f07",
   "metadata": {},
   "source": [
    "<div class=\"alert alert-success\">\n",
    "    <b>Step 3.</b> The <b>starting <code>object</code></b>\n",
    "</div>"
   ]
  },
  {
   "cell_type": "code",
   "execution_count": 11,
   "id": "82811d5f-37b3-42d6-b18f-6bc4395265d9",
   "metadata": {},
   "outputs": [
    {
     "data": {
      "text/plain": [
       "0      16.99\n",
       "1      10.34\n",
       "       ...  \n",
       "242    17.82\n",
       "243    18.78\n",
       "Name: total_bill, Length: 244, dtype: object"
      ]
     },
     "execution_count": 11,
     "metadata": {},
     "output_type": "execute_result"
    }
   ],
   "source": [
    "df_tips.total_bill"
   ]
  },
  {
   "cell_type": "markdown",
   "id": "8a99c428-a961-4af6-9ba2-db0a4c81288a",
   "metadata": {
    "tags": []
   },
   "source": [
    "<div class=\"alert alert-success\">\n",
    "    <b>Step 4.</b> Look for the <code>function()</code> to obtain the end object\n",
    "</div>"
   ]
  },
  {
   "cell_type": "code",
   "execution_count": 12,
   "id": "473ddce6-252f-46e6-b10b-b0e942d01558",
   "metadata": {},
   "outputs": [
    {
     "data": {
      "text/plain": [
       "'16.9910.3421.0123.6824.5925.298.7726.8815.0414.7810.2735.2615.4218.4314.8321.5810.3316.2916.9720.6517.9220.2915.7739.4219.8217.8113.3712.6921.719.659.5518.3515.0620.6917.7824.0616.3116.9318.6931.2716.0417.4613.949.6830.418.2922.2332.428.5518.0412.5410.2934.819.9425.5619.4938.0126.4111.2448.2720.2913.8111.0218.2917.5920.0816.453.0720.2315.0112.0217.0726.8625.2814.7310.5117.9227.222.7617.2919.4416.6610.0732.6815.9834.8313.0318.2824.7121.1628.9722.495.7516.3222.7540.1727.2812.0321.0112.4611.3515.3844.322.4220.9215.3620.4925.2118.2414.3114.07.2538.0723.9525.7117.3129.9310.6512.4324.0811.6913.4214.2615.9512.4829.88.5214.5211.3822.8219.0820.2711.1712.2618.268.5110.3314.1516.013.1617.4734.341.1927.0516.438.3518.6411.879.787.5114.0713.1317.2624.5519.7729.8548.1725.013.3916.4921.512.6616.2113.8117.5124.5220.7631.7110.5910.6350.8115.817.2531.8516.8232.917.8914.489.634.6334.6523.3345.3523.1740.5520.6920.930.4618.1523.115.6919.8128.4415.4816.587.5610.3443.1113.013.5118.7112.7413.016.420.5316.4726.5938.7324.2712.7630.0625.8948.3313.2728.1712.928.1511.597.7430.1412.1613.428.5815.9813.4216.2710.0920.4513.2822.1224.0115.6911.6110.7715.5310.0712.632.8335.8329.0327.1822.6717.8218.78'"
      ]
     },
     "execution_count": 12,
     "metadata": {},
     "output_type": "execute_result"
    }
   ],
   "source": [
    "df_tips.total_bill.sum()"
   ]
  },
  {
   "cell_type": "markdown",
   "id": "f8c7a4b2-3527-439a-8024-93ddf5f9239c",
   "metadata": {},
   "source": [
    "<div class=\"alert alert-danger\">\n",
    "    Understand why Python is not doing what you expect and reformulate the problem\n",
    "</div>"
   ]
  },
  {
   "cell_type": "markdown",
   "id": "f4877385-71ef-4d1f-8df4-6dedc47d2fbb",
   "metadata": {},
   "source": [
    "- The `Series` object is concatenating the values, not adding them up.\n",
    "- The <b>values of the <code>Series</code></b> are interpreted as <code>dtype: object</code>; normally interpreted as a <code>string</code>. They aren't interpreted as numbers."
   ]
  },
  {
   "cell_type": "code",
   "execution_count": 13,
   "id": "1114eca4-9f29-48f2-9683-93e2a6636a29",
   "metadata": {},
   "outputs": [
    {
     "data": {
      "text/plain": [
       "0      16.99\n",
       "1      10.34\n",
       "       ...  \n",
       "242    17.82\n",
       "243    18.78\n",
       "Name: total_bill, Length: 244, dtype: object"
      ]
     },
     "execution_count": 13,
     "metadata": {},
     "output_type": "execute_result"
    }
   ],
   "source": [
    "df_tips.total_bill"
   ]
  },
  {
   "cell_type": "markdown",
   "id": "c59e04c5-ef15-470c-90f1-36bf80656ddb",
   "metadata": {},
   "source": [
    "<div class=\"alert alert-warning\">\n",
    "    <a href=\"concepts to learn/01-the-object-in-pandas.ipynb\"><b>Apply Curiosity →</b></a> Importance of the object's <code>type</code>\n",
    "</div>"
   ]
  },
  {
   "cell_type": "markdown",
   "id": "d54adb7c-a925-4741-b161-57a247658c37",
   "metadata": {},
   "source": [
    "- We should have a `numerical dtype`"
   ]
  },
  {
   "cell_type": "code",
   "execution_count": 15,
   "id": "35c36326-3ba9-4952-b460-1a3ac94b8826",
   "metadata": {},
   "outputs": [
    {
     "data": {
      "text/plain": [
       "0      16.99\n",
       "1      10.34\n",
       "       ...  \n",
       "242    17.82\n",
       "243    18.78\n",
       "Name: total_bill, Length: 244, dtype: float64"
      ]
     },
     "execution_count": 15,
     "metadata": {},
     "output_type": "execute_result"
    }
   ],
   "source": [
    "df_tips.total_bill.astype(float)"
   ]
  },
  {
   "cell_type": "markdown",
   "id": "3aae734b-81d3-43f5-a856-216cbe0af1ec",
   "metadata": {},
   "source": [
    "<div class=\"alert alert-warning\">\n",
    "    <a href=\"concepts to learn/02-why-float64.ipynb\"><b>Apply Curiosity →</b></a> Why <code>64</code> in <b>float64</b>?\n",
    "</div>"
   ]
  },
  {
   "cell_type": "code",
   "execution_count": 16,
   "id": "a0e70d4a-cbc4-439c-83cc-d004ac836c81",
   "metadata": {},
   "outputs": [
    {
     "data": {
      "text/plain": [
       "'16.9910.3421.0123.6824.5925.298.7726.8815.0414.7810.2735.2615.4218.4314.8321.5810.3316.2916.9720.6517.9220.2915.7739.4219.8217.8113.3712.6921.719.659.5518.3515.0620.6917.7824.0616.3116.9318.6931.2716.0417.4613.949.6830.418.2922.2332.428.5518.0412.5410.2934.819.9425.5619.4938.0126.4111.2448.2720.2913.8111.0218.2917.5920.0816.453.0720.2315.0112.0217.0726.8625.2814.7310.5117.9227.222.7617.2919.4416.6610.0732.6815.9834.8313.0318.2824.7121.1628.9722.495.7516.3222.7540.1727.2812.0321.0112.4611.3515.3844.322.4220.9215.3620.4925.2118.2414.3114.07.2538.0723.9525.7117.3129.9310.6512.4324.0811.6913.4214.2615.9512.4829.88.5214.5211.3822.8219.0820.2711.1712.2618.268.5110.3314.1516.013.1617.4734.341.1927.0516.438.3518.6411.879.787.5114.0713.1317.2624.5519.7729.8548.1725.013.3916.4921.512.6616.2113.8117.5124.5220.7631.7110.5910.6350.8115.817.2531.8516.8232.917.8914.489.634.6334.6523.3345.3523.1740.5520.6920.930.4618.1523.115.6919.8128.4415.4816.587.5610.3443.1113.013.5118.7112.7413.016.420.5316.4726.5938.7324.2712.7630.0625.8948.3313.2728.1712.928.1511.597.7430.1412.1613.428.5815.9813.4216.2710.0920.4513.2822.1224.0115.6911.6110.7715.5310.0712.632.8335.8329.0327.1822.6717.8218.78'"
      ]
     },
     "execution_count": 16,
     "metadata": {},
     "output_type": "execute_result"
    }
   ],
   "source": [
    "df_tips.total_bill.sum()"
   ]
  },
  {
   "cell_type": "markdown",
   "id": "9fd07223-fb53-44f8-967f-40560685d789",
   "metadata": {},
   "source": [
    "<div class=\"alert alert-danger\">\n",
    "    Understand why Python is not doing what you expect and reformulate the problem\n",
    "</div>"
   ]
  },
  {
   "cell_type": "markdown",
   "id": "f8d6eb76-8666-48c0-84a0-c353f4ae968e",
   "metadata": {},
   "source": [
    "- We haven't changed/overwritten the object within the `instance`\n",
    "- We may still watch below the <code>dtype: object</code>"
   ]
  },
  {
   "cell_type": "code",
   "execution_count": 17,
   "id": "271ca1fb-a14b-483c-bf8b-61760f0905fa",
   "metadata": {},
   "outputs": [
    {
     "data": {
      "text/plain": [
       "0      16.99\n",
       "1      10.34\n",
       "       ...  \n",
       "242    17.82\n",
       "243    18.78\n",
       "Name: total_bill, Length: 244, dtype: object"
      ]
     },
     "execution_count": 17,
     "metadata": {},
     "output_type": "execute_result"
    }
   ],
   "source": [
    "df_tips.total_bill"
   ]
  },
  {
   "cell_type": "markdown",
   "id": "dce205eb-e233-4a4a-850e-77cca8384618",
   "metadata": {},
   "source": [
    "- Let's overwrite the instance ↓"
   ]
  },
  {
   "cell_type": "code",
   "execution_count": 22,
   "id": "c4c2a884-0a0f-4515-b9bd-4cbc78bf7e1e",
   "metadata": {},
   "outputs": [],
   "source": [
    "df_tips.total_bill = df_tips.total_bill.astype(float)"
   ]
  },
  {
   "cell_type": "code",
   "execution_count": 23,
   "id": "70220a9c-4846-4b8b-9573-6cc3bb8f25b6",
   "metadata": {},
   "outputs": [
    {
     "data": {
      "text/plain": [
       "0      16.99\n",
       "1      10.34\n",
       "       ...  \n",
       "242    17.82\n",
       "243    18.78\n",
       "Name: total_bill, Length: 244, dtype: float64"
      ]
     },
     "execution_count": 23,
     "metadata": {},
     "output_type": "execute_result"
    }
   ],
   "source": [
    "df_tips.total_bill"
   ]
  },
  {
   "cell_type": "markdown",
   "id": "97bd33cc-27a2-4918-b66d-a4b1c291ad21",
   "metadata": {},
   "source": [
    "- Now the values of the `Series` are `dtype: float64`\n",
    "- They are interpreted as numbers"
   ]
  },
  {
   "cell_type": "markdown",
   "id": "05f52f48-84fc-44d6-b222-587be94b5e8c",
   "metadata": {},
   "source": [
    "<div class=\"alert alert-warning\">\n",
    "    <a href=\"concepts to learn/03-overwrite-the-instance.ipynb\"><b>Apply Curiosity →</b></a> What does it happen inside the computer when you <b>overwrite the instance</b>?\n",
    "</div>"
   ]
  },
  {
   "cell_type": "markdown",
   "id": "d5670fbb-6ec3-4d98-9c72-72812dfe56ae",
   "metadata": {},
   "source": [
    "- Therefore, we can add the values up ↓"
   ]
  },
  {
   "cell_type": "code",
   "execution_count": 25,
   "id": "334c894a-c882-4355-86b8-214257b6fb0f",
   "metadata": {},
   "outputs": [
    {
     "data": {
      "text/plain": [
       "4827.77"
      ]
     },
     "execution_count": 25,
     "metadata": {},
     "output_type": "execute_result"
    }
   ],
   "source": [
    "df_tips.total_bill.sum()"
   ]
  },
  {
   "cell_type": "code",
   "execution_count": 26,
   "id": "66a41498-5f6e-4c5c-a342-80d28df0659a",
   "metadata": {},
   "outputs": [
    {
     "data": {
      "text/plain": [
       "total_bill     float64\n",
       "tip            float64\n",
       "sex           category\n",
       "smoker        category\n",
       "day           category\n",
       "time          category\n",
       "size             int64\n",
       "dtype: object"
      ]
     },
     "execution_count": 26,
     "metadata": {},
     "output_type": "execute_result"
    }
   ],
   "source": [
    "df_tips.dtypes"
   ]
  }
 ],
 "metadata": {
  "kernelspec": {
   "display_name": "Python 3 (ipykernel)",
   "language": "python",
   "name": "python3"
  },
  "language_info": {
   "codemirror_mode": {
    "name": "ipython",
    "version": 3
   },
   "file_extension": ".py",
   "mimetype": "text/x-python",
   "name": "python",
   "nbconvert_exporter": "python",
   "pygments_lexer": "ipython3",
   "version": "3.9.7"
  }
 },
 "nbformat": 4,
 "nbformat_minor": 5
}
