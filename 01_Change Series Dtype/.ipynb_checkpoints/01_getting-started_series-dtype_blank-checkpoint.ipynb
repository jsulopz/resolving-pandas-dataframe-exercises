{
 "cells": [
  {
   "cell_type": "markdown",
   "id": "ba5b525a-ccba-4a2c-816a-b84f9fe5cde0",
   "metadata": {
    "deletable": false,
    "editable": false,
    "tags": []
   },
   "source": [
    "![](../../src/logo.svg)\n",
    "\n",
    "**© Jesús López**\n",
    "\n",
    "Follow him on **[LinkedIn](https://linkedin.com/in/jsulopz)** or **[Twitter](https://twitter.com/jsulopz)**\n",
    "\n",
    "<br>\n",
    "<a rel=\"license\" href=\"http://creativecommons.org/licenses/by-nc-nd/4.0/\"><img alt=\"Creative Commons License\" style=\"border-width:0\" src=\"https://i.creativecommons.org/l/by-nc-nd/4.0/88x31.png\" /></a><br />This work is licensed under a <a rel=\"license\" href=\"http://creativecommons.org/licenses/by-nc-nd/4.0/\">Creative Commons Attribution-NonCommercial-NoDerivatives 4.0 International License</a>."
   ]
  },
  {
   "cell_type": "markdown",
   "id": "602d4388-1375-4393-bf2b-b538bc9db8f5",
   "metadata": {},
   "source": [
    "<font size=\"+5\">#01 | Change Series Dtype</font>\n",
    "\n",
    "# The Challenge\n",
    "\n",
    "<div class=\"alert alert-info\">\n",
    "    How much income the restaurant generated?\n",
    "</div>"
   ]
  },
  {
   "cell_type": "code",
   "execution_count": null,
   "id": "810c3bea-7f7c-4074-820f-698c32199e12",
   "metadata": {},
   "outputs": [
    {
     "data": {
      "text/html": [
       "<div>\n",
       "<style scoped>\n",
       "    .dataframe tbody tr th:only-of-type {\n",
       "        vertical-align: middle;\n",
       "    }\n",
       "\n",
       "    .dataframe tbody tr th {\n",
       "        vertical-align: top;\n",
       "    }\n",
       "\n",
       "    .dataframe thead th {\n",
       "        text-align: right;\n",
       "    }\n",
       "</style>\n",
       "<table border=\"1\" class=\"dataframe\">\n",
       "  <thead>\n",
       "    <tr style=\"text-align: right;\">\n",
       "      <th></th>\n",
       "      <th>total_bill</th>\n",
       "      <th>tip</th>\n",
       "      <th>sex</th>\n",
       "      <th>smoker</th>\n",
       "      <th>day</th>\n",
       "      <th>time</th>\n",
       "      <th>size</th>\n",
       "    </tr>\n",
       "  </thead>\n",
       "  <tbody>\n",
       "    <tr>\n",
       "      <th>0</th>\n",
       "      <td>16.99</td>\n",
       "      <td>1.01</td>\n",
       "      <td>Female</td>\n",
       "      <td>No</td>\n",
       "      <td>Sun</td>\n",
       "      <td>Dinner</td>\n",
       "      <td>2</td>\n",
       "    </tr>\n",
       "    <tr>\n",
       "      <th>1</th>\n",
       "      <td>10.34</td>\n",
       "      <td>1.66</td>\n",
       "      <td>Male</td>\n",
       "      <td>No</td>\n",
       "      <td>Sun</td>\n",
       "      <td>Dinner</td>\n",
       "      <td>3</td>\n",
       "    </tr>\n",
       "    <tr>\n",
       "      <th>...</th>\n",
       "      <td>...</td>\n",
       "      <td>...</td>\n",
       "      <td>...</td>\n",
       "      <td>...</td>\n",
       "      <td>...</td>\n",
       "      <td>...</td>\n",
       "      <td>...</td>\n",
       "    </tr>\n",
       "    <tr>\n",
       "      <th>242</th>\n",
       "      <td>17.82</td>\n",
       "      <td>1.75</td>\n",
       "      <td>Male</td>\n",
       "      <td>No</td>\n",
       "      <td>Sat</td>\n",
       "      <td>Dinner</td>\n",
       "      <td>2</td>\n",
       "    </tr>\n",
       "    <tr>\n",
       "      <th>243</th>\n",
       "      <td>18.78</td>\n",
       "      <td>3.00</td>\n",
       "      <td>Female</td>\n",
       "      <td>No</td>\n",
       "      <td>Thur</td>\n",
       "      <td>Dinner</td>\n",
       "      <td>2</td>\n",
       "    </tr>\n",
       "  </tbody>\n",
       "</table>\n",
       "<p>244 rows × 7 columns</p>\n",
       "</div>"
      ],
      "text/plain": [
       "    total_bill   tip     sex smoker   day    time  size\n",
       "0        16.99  1.01  Female     No   Sun  Dinner     2\n",
       "1        10.34  1.66    Male     No   Sun  Dinner     3\n",
       "..         ...   ...     ...    ...   ...     ...   ...\n",
       "242      17.82  1.75    Male     No   Sat  Dinner     2\n",
       "243      18.78  3.00  Female     No  Thur  Dinner     2\n",
       "\n",
       "[244 rows x 7 columns]"
      ]
     },
     "execution_count": 10,
     "metadata": {},
     "output_type": "execute_result"
    }
   ],
   "source": [
    "import seaborn as sns #!\n",
    "import pandas as pd\n",
    "\n",
    "pd.set_option('display.min_rows', 4)\n",
    "pd.set_option('display.max_rows', 10)\n",
    "\n",
    "df_tips = sns.load_dataset('tips')\n",
    "df_tips.total_bill = df_tips.total_bill.astype(str)\n",
    "df_tips"
   ]
  },
  {
   "cell_type": "markdown",
   "id": "9028b3a9-ff7f-4a41-b082-402cb419b3da",
   "metadata": {
    "tags": []
   },
   "source": [
    "# The Covered Solution"
   ]
  },
  {
   "cell_type": "code",
   "execution_count": null,
   "id": "7f2c98ad-9abc-473d-99c5-ebf7514432aa",
   "metadata": {},
   "outputs": [],
   "source": [
    "?? #! read the full story to find out the solution"
   ]
  },
  {
   "cell_type": "raw",
   "id": "0635d12a-9298-4a53-9b7c-b4e03451be3f",
   "metadata": {},
   "source": [
    "4827.77"
   ]
  },
  {
   "cell_type": "markdown",
   "id": "0118fc5a-01e5-4c3f-be86-ec2236073bea",
   "metadata": {
    "tags": []
   },
   "source": [
    "# Resolving Python Method"
   ]
  },
  {
   "cell_type": "markdown",
   "id": "213a4a8c-0bc4-4417-8924-0e1325c8e5f6",
   "metadata": {
    "tags": []
   },
   "source": [
    "<div class=\"alert alert-success\">\n",
    "    <b>Step 1. Understand the problem</b>\n",
    "    <ol>\n",
    "        <li>Describe the data you are working with</li>\n",
    "        <li>Explain how you will develop the solution</li>\n",
    "    </ol>\n",
    "</div>"
   ]
  },
  {
   "cell_type": "code",
   "execution_count": null,
   "id": "bec8b4bf-aa9c-43a0-84c0-60ed7f1b137b",
   "metadata": {},
   "outputs": [],
   "source": []
  },
  {
   "cell_type": "markdown",
   "id": "c648019c-147a-4240-bbe8-ac04443b34d3",
   "metadata": {
    "tags": []
   },
   "source": [
    "<div class=\"alert alert-success\">\n",
    "    <b>Step 2. Sketch the <code>end object</code></b>\n",
    "    <br><br>Type down how the end object will look like\n",
    "</div>"
   ]
  },
  {
   "cell_type": "raw",
   "id": "4a9cab5e-d45e-4781-9308-f52423c63b20",
   "metadata": {
    "tags": []
   },
   "source": [
    "454 dollars #!"
   ]
  },
  {
   "cell_type": "markdown",
   "id": "38b06951-8834-4680-801d-8aafe51a2b02",
   "metadata": {},
   "source": [
    "<div class=\"alert alert-success\">\n",
    "    <b>Step 3. The <code>starting object</code></b>\n",
    "    <ol>\n",
    "        <li>Which object will you use to apply the Resolving Python Method?</li>\n",
    "        <li>Which <code>type()</code> of object is it?</li>\n",
    "    </ol>\n",
    "</div>"
   ]
  },
  {
   "cell_type": "code",
   "execution_count": null,
   "id": "472d956d-59bf-42ce-9c69-ab280058b349",
   "metadata": {},
   "outputs": [],
   "source": []
  },
  {
   "cell_type": "markdown",
   "id": "b7268dfa-ae8b-4746-9f4f-23526b2cc00f",
   "metadata": {
    "tags": []
   },
   "source": [
    "<div class=\"alert alert-success\">\n",
    "    <b>Step 4. The <code>function()</code></b>\n",
    "    <br><br>Apply the <a href=\"https://gitlab.com/python-resolvers/python-resolver-discipline/-/blob/main/01_Know%20How/01_Resolving%20Python%20Method.md\">Resolving Python Method</a> to find the function that solves your problem\n",
    "</div>"
   ]
  },
  {
   "cell_type": "code",
   "execution_count": null,
   "id": "aef7f928-493d-46c1-84c9-425bbd9e6b32",
   "metadata": {},
   "outputs": [],
   "source": []
  },
  {
   "cell_type": "markdown",
   "id": "09c2714e-eec0-458a-8241-a69a7c470427",
   "metadata": {},
   "source": [
    "<div class=\"alert alert-danger\">\n",
    "    Understand why Python is not doing what you expect and reformulate the problem\n",
    "</div>"
   ]
  },
  {
   "cell_type": "code",
   "execution_count": null,
   "id": "a0215e91-d234-45c9-a51f-28441cf30aea",
   "metadata": {},
   "outputs": [],
   "source": []
  },
  {
   "cell_type": "markdown",
   "id": "f5091302-ec27-4300-b402-6f340d9e62a8",
   "metadata": {},
   "source": [
    "<div class=\"alert alert-warning\">\n",
    "    <a href=\"Curiosity x Learning/FILENAME.ipynb\">\n",
    "        <b>Apply Curiosity ↗︎</b>\n",
    "    </a>\n",
    "    <br>Curiosity Concept\n",
    "</div>"
   ]
  },
  {
   "cell_type": "code",
   "execution_count": null,
   "id": "8cc2bdc1-60a7-4281-bbf1-d16695f2ea24",
   "metadata": {},
   "outputs": [],
   "source": []
  }
 ],
 "metadata": {
  "kernelspec": {
   "display_name": "Python 3 (ipykernel)",
   "language": "python",
   "name": "python3"
  },
  "language_info": {
   "codemirror_mode": {
    "name": "ipython",
    "version": 3
   },
   "file_extension": ".py",
   "mimetype": "text/x-python",
   "name": "python",
   "nbconvert_exporter": "python",
   "pygments_lexer": "ipython3",
   "version": "3.9.7"
  }
 },
 "nbformat": 4,
 "nbformat_minor": 5
}
